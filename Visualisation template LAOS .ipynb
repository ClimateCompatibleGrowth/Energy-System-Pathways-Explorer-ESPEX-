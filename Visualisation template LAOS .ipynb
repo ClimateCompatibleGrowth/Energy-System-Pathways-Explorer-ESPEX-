{
 "cells": [
  {
   "cell_type": "code",
   "execution_count": null,
   "id": "07e672bc-ec91-400a-a889-ad158c65a46d",
   "metadata": {
    "editable": true,
    "slideshow": {
     "slide_type": ""
    },
    "tags": []
   },
   "outputs": [],
   "source": [
    "import pandas as pd\n",
    "import numpy as np\n",
    "import panel as pn\n",
    "pn.extension('tabulator')\n",
    "import hvplot.pandas\n",
    "\n"
   ]
  },
  {
   "cell_type": "code",
   "execution_count": null,
   "id": "8431526f-0574-41d6-90ec-0d93d5e28b79",
   "metadata": {},
   "outputs": [],
   "source": [
    "# Load data for emission\n",
    "df = pd.read_excel('FILE PATH TO 1024Runsdata folder/AnnualTechnologyEmissonsbyModefortra.xlsx')\n",
    "\n",
    "\n"
   ]
  },
  {
   "cell_type": "code",
   "execution_count": null,
   "id": "5f97b9af-9d17-48d3-8e62-1d9085983358",
   "metadata": {},
   "outputs": [],
   "source": [
    "df.loc[df['TECHNOLOGY'] == 'TRACARDSLBIO', 'TECHNOLOGY'] = 'Diesel cars With Blending option'\n",
    "df.loc[df['TECHNOLOGY'] == 'TRAMCYGAS',    'TECHNOLOGY'] = 'Motorcycles Gasoline'\n",
    "df.loc[df['TECHNOLOGY'] == 'TRACARGASBIO', 'TECHNOLOGY'] = 'Gasoline Cars With blending option'\n",
    "df.loc[df['TECHNOLOGY'] == 'TRABUSDSLBIO', 'TECHNOLOGY'] = 'Diesel and Bio Diesel Busses'\n",
    "df.loc[df['TECHNOLOGY'] == 'TRALDVDSLBIO', 'TECHNOLOGY'] = 'LDV Diesel & Bio Diesel'\n",
    "df.loc[df['TECHNOLOGY'] == 'TRAHDVDSLBIO', 'TECHNOLOGY'] = 'HDV Diesel & Bio Diesel'\n",
    "df.loc[df['TECHNOLOGY'] == 'TRAPAIRJETBIO', 'TECHNOLOGY'] = 'Aviation Passenger on JET/ABF'\n",
    "df.loc[df['TECHNOLOGY'] == 'TRAFAIRJETBIO', 'TECHNOLOGY'] = 'Aviation Frieght on JET/ABF'\n",
    "df.loc[df['TECHNOLOGY'] == 'TRACARGASHYB', 'TECHNOLOGY'] = 'Gasoline Hybrid cars'\n",
    "\n",
    "# Save the modified DataFrame back to Excel\n",
    "df.to_excel('FILE PATH TO Laos folder/ProductionByTechnologyAnnual_combined.xlsx', index=False)\n",
    "\n"
   ]
  },
  {
   "cell_type": "code",
   "execution_count": null,
   "id": "64b0d516-4a82-497c-829c-13189d04d96e",
   "metadata": {},
   "outputs": [],
   "source": [
    "#Load Data for Demand and fuel based demand\n",
    "df2 = pd.read_excel('FILE PATH TO 1024Runsdata folder/Demand and engine type sheet.xlsx', sheet_name='Demand')\n",
    "\n"
   ]
  },
  {
   "cell_type": "code",
   "execution_count": null,
   "id": "96dff10a-732d-4378-bd89-8c3efb5f2d8a",
   "metadata": {},
   "outputs": [],
   "source": [
    "#Load Data for Demand and fuel based demand\n",
    "df3 = pd.read_excel('FILE PATH TO 1024Runsdata folder/Energysheet.xlsx',sheet_name='Freight')\n",
    "df3"
   ]
  },
  {
   "cell_type": "code",
   "execution_count": null,
   "id": "aa70ec7e-9046-4069-a621-c33e661a0d58",
   "metadata": {},
   "outputs": [],
   "source": [
    "df2.loc[df2['PASSENGER'] == 'TRAMCYELC', 'PASSENGER'] = 'Motorcycles'\n",
    "df2.loc[df2['PASSENGER'] == 'TRACARDSLBIO', 'PASSENGER'] = 'Cars'\n",
    "df2.loc[df2['PASSENGER'] == 'TRACARGASBIO', 'PASSENGER'] = 'Cars'\n",
    "df2.loc[df2['PASSENGER'] == 'TRABUSDSLBIO', 'PASSENGER'] = 'Bus'\n",
    "df2.loc[df2['PASSENGER'] == 'TRACARDSLBIO', 'PASSENGER'] = 'Cars'\n",
    "df2.loc[df2['PASSENGER'] == 'TRACARGASHYB', 'PASSENGER'] = 'Cars'\n",
    "df2.loc[df2['PASSENGER'] == 'TRACARELC', 'PASSENGER'] = 'Cars'\n",
    "df2.loc[df2['PASSENGER'] == 'TRAMCYGAS', 'PASSENGER'] = 'Motorcycles'\n",
    "df2.loc[df2['PASSENGER'] == 'TRAPAIRH2', 'PASSENGER'] = 'Air'\n",
    "df2.loc[df2['PASSENGER'] == 'TRAPRAIELC', 'PASSENGER'] = 'Rail'\n",
    "df2.loc[df2['PASSENGER'] == 'TRAPAIRJETBIO', 'PASSENGER'] = 'Air'\n",
    "df2.loc[df2['PASSENGER'] == 'TRABUSH2', 'PASSENGER'] = 'Bus'\n",
    "df2.loc[df2['PASSENGER'] == 'TRABUSELC', 'PASSENGER'] = 'Bus'\n",
    "df2.loc[df2['PASSENGER'] == 'TRACARH2', 'PASSENGER'] = 'Cars'\n",
    "\n",
    "df2.to_excel('FILE PATH TO LAOS FOLDER/Demand and engine type sheet.xlsx', index=False)\n"
   ]
  },
  {
   "cell_type": "code",
   "execution_count": null,
   "id": "741ee25e-3daa-485b-a2a5-335622f550a3",
   "metadata": {},
   "outputs": [],
   "source": [
    "# TRALDVDSLBIO\tLDV\n",
    "# TRAHDVDSLBIO\tHDV\n",
    "# TRALDVELC\tLDV\n",
    "# TRAHDVELC\tHDV\n",
    "# TRAFAIRH2\tAir freight\n",
    "# TRAFRAIELC\tRail freight\n",
    "# TRAHDVH2\tHDV\n",
    "# TRALDVH2\tLDV"
   ]
  },
  {
   "cell_type": "code",
   "execution_count": null,
   "id": "28da7197-3301-400a-b14c-2d3aae877805",
   "metadata": {},
   "outputs": [],
   "source": [
    "df3.loc[df3['TECHNOLOGY'] == 'TRALDVDSLBIO', 'TECHNOLOGY'] = 'LDV'\n",
    "df3.loc[df3['TECHNOLOGY'] == 'TRALDVELC', 'TECHNOLOGY'] = 'LDV'\n",
    "df3.loc[df3['TECHNOLOGY'] == 'TRALDVH2', 'TECHNOLOGY'] = 'LDV'\n",
    "df3.loc[df3['TECHNOLOGY'] == 'TRAHDVDSLBIO', 'TECHNOLOGY'] = 'HDV'\n",
    "df3.loc[df3['TECHNOLOGY'] == 'TRAHDVELC', 'TECHNOLOGY'] = 'HDV'\n",
    "df3.loc[df3['TECHNOLOGY'] == 'TRAHDVH2', 'TECHNOLOGY'] = 'HDV'\n",
    "df3.loc[df3['TECHNOLOGY'] == 'TRAFRAIELC', 'TECHNOLOGY'] = 'Rail freight'\n",
    "df3.loc[df3['TECHNOLOGY'] == 'TRAFAIRH2', 'TECHNOLOGY'] = 'Air freight'\n",
    "df3.loc[df3['TECHNOLOGY'] == 'TRAFAIRJETBIO', 'TECHNOLOGY'] = 'Air freight'\n",
    "\n",
    "df3.to_excel('FILE PATH TO Laos folder/Energysheet.xlsx',sheet_name='Freight', index=False)\n",
    "df3"
   ]
  },
  {
   "cell_type": "code",
   "execution_count": null,
   "id": "53250319-6f11-45ff-be56-05dc51f74875",
   "metadata": {},
   "outputs": [],
   "source": [
    "# Fill NaN values with 0\n",
    "df3.fillna(0, inplace=True)"
   ]
  },
  {
   "cell_type": "code",
   "execution_count": null,
   "id": "f9f967a8-0160-4f2b-9238-e001b70f865d",
   "metadata": {},
   "outputs": [],
   "source": [
    "# Fill NaN values with 0\n",
    "df2.fillna(0, inplace=True)"
   ]
  },
  {
   "cell_type": "code",
   "execution_count": null,
   "id": "6b5583e5-efd9-4e2a-a847-b255c7914884",
   "metadata": {},
   "outputs": [],
   "source": [
    "# Fill NaN values with 0\n",
    "df.fillna(0, inplace=True)"
   ]
  },
  {
   "cell_type": "code",
   "execution_count": null,
   "id": "343398e0-9332-4125-af4e-44f8e3e1d7af",
   "metadata": {},
   "outputs": [],
   "source": [
    "# Create  scenarios Buttons\n",
    "scenario_buttons = pn.widgets.RadioButtonGroup(name='Scenario', options=['Avoid', 'Shift', 'Improve', 'Transform', 'Cost'],\n",
    "                   button_type='success',orientation='vertical'\n",
    ")"
   ]
  },
  {
   "cell_type": "code",
   "execution_count": null,
   "id": "156a8b61-c02d-47b0-bf07-7ddd45f724aa",
   "metadata": {},
   "outputs": [],
   "source": [
    "#Ambition Slider\n",
    "ambition_Slider = pn.widgets.IntSlider(name='ambition_level', start=1, end=4, step=1, value=2)\n",
    "ambition_Slider"
   ]
  },
  {
   "cell_type": "code",
   "execution_count": null,
   "id": "3ab5229e-7b1c-410b-8c7f-3c3acd4c932b",
   "metadata": {},
   "outputs": [],
   "source": [
    "# Define weights\n",
    "weights = [1, 1, 1,1,1]  # Adjust these weights as needed for your scenario"
   ]
  },
  {
   "cell_type": "code",
   "execution_count": null,
   "id": "e48f634f-4c34-4f21-a99e-0d5830e13b94",
   "metadata": {},
   "outputs": [],
   "source": [
    "def create_pipeline(df, weights):\n",
    "    try:\n",
    "        # Copy the dataframe to avoid modifying the original\n",
    "        filtered_df = df.copy()\n",
    "\n",
    "        # Start with the first condition\n",
    "        mask = (filtered_df['Scenario'] * weights[0]) > 0\n",
    "\n",
    "        # Combine conditions for each subsequent weight\n",
    "        for weight in weights[1:]:\n",
    "            mask &= (filtered_df['Scenario'] * weight) > 0\n",
    "\n",
    "        # Apply the mask to filter the dataframe\n",
    "        filtered_df = filtered_df[mask]\n",
    "\n",
    "        # Group by 'TECHNOLOGY' and 'YEAR' columns, then sum the remaining data\n",
    "        return filtered_df.groupby(['TECHNOLOGY', 'YEAR']).mean()\n",
    "    except KeyError as e:\n",
    "        print(f\"Error: Missing column {e}\")\n",
    "        return None\n",
    "    except Exception as e:\n",
    "        print(f\"An error occurred: {e}\")\n",
    "        return None\n"
   ]
  },
  {
   "cell_type": "code",
   "execution_count": null,
   "id": "78a916b5-5b85-4e25-9f0c-655558c5bdc3",
   "metadata": {
    "editable": true,
    "slideshow": {
     "slide_type": ""
    },
    "tags": []
   },
   "outputs": [],
   "source": [
    "def create_pipeline(df2, weights):\n",
    "    try:\n",
    "        # Copy the dataframe to avoid modifying the original\n",
    "        filtered_df = df2.copy()\n",
    "\n",
    "        # Start with the first condition\n",
    "        mask = (filtered_df2['Scenario'] * weights[0]) > 0\n",
    "\n",
    "        # Combine conditions for each subsequent weight\n",
    "        for weight in weights[1:]:\n",
    "            mask &= (filtered_df2['Scenario'] * weight) > 0\n",
    "\n",
    "        # Apply the mask to filter the dataframe\n",
    "        filtered_df = filtered_df2[mask]\n",
    "\n",
    "        # Group by 'TECHNOLOGY' and 'YEAR' columns, then sum the remaining data\n",
    "        return filtered_df2.groupby(['PASSENGER', 'YEAR']).mean()\n",
    "    except KeyError as e:\n",
    "        print(f\"Error: Missing column {e}\")\n",
    "        return None\n",
    "    except Exception as e:\n",
    "        print(f\"An error occurred: {e}\")\n",
    "        return None"
   ]
  },
  {
   "cell_type": "code",
   "execution_count": null,
   "id": "0e6be368-2fff-421f-b7c6-0703854f1d94",
   "metadata": {},
   "outputs": [],
   "source": [
    "def create_pipeline(df3, weights):\n",
    "    try:\n",
    "        # Copy the dataframe to avoid modifying the original\n",
    "        filtered_df = df3.copy()\n",
    "\n",
    "        # Start with the first condition\n",
    "        mask = (filtered_df3['Scenario'] * weights[0]) > 0\n",
    "\n",
    "        # Combine conditions for each subsequent weight\n",
    "        for weight in weights[1:]:\n",
    "            mask &= (filtered_df3['Scenario'] * weight) > 0\n",
    "\n",
    "        # Apply the mask to filter the dataframe\n",
    "        filtered_df = filtered_df3[mask]\n",
    "\n",
    "        # Group by 'TECHNOLOGY' and 'YEAR' columns, then sum the remaining data\n",
    "        return filtered_df3.groupby(['FREIGHT', 'YEAR']).mean()\n",
    "    except KeyError as e:\n",
    "        print(f\"Error: Missing column {e}\")\n",
    "        return None\n",
    "    except Exception as e:\n",
    "        print(f\"An error occurred: {e}\")\n",
    "        return None"
   ]
  },
  {
   "cell_type": "code",
   "execution_count": null,
   "id": "ad4c951a-d750-4515-8bae-dd41d4b62019",
   "metadata": {},
   "outputs": [],
   "source": [
    "df.reset_index(inplace=True)\n"
   ]
  },
  {
   "cell_type": "code",
   "execution_count": null,
   "id": "e46ba49b-0e4b-4d1f-b2b4-a2e63d27f400",
   "metadata": {},
   "outputs": [],
   "source": [
    "df2.reset_index(inplace=True)"
   ]
  },
  {
   "cell_type": "code",
   "execution_count": null,
   "id": "35933610-7936-4511-ba76-6097a8bf8c79",
   "metadata": {},
   "outputs": [],
   "source": [
    "df3.reset_index(inplace=True)"
   ]
  },
  {
   "cell_type": "code",
   "execution_count": null,
   "id": "7767fa6d-5b1d-40d1-8ba2-2e66564c37ae",
   "metadata": {},
   "outputs": [],
   "source": [
    "df = df.groupby(['YEAR', 'TECHNOLOGY']).agg({'VALUE': 'mean'}).reset_index()\n",
    "df\n"
   ]
  },
  {
   "cell_type": "code",
   "execution_count": null,
   "id": "7f544044-b9ac-4b25-ab36-94d14697b971",
   "metadata": {},
   "outputs": [],
   "source": [
    "df2 = df2.groupby(['YEAR', 'PASSENGER']).agg({'VALUE': 'mean'}).reset_index()"
   ]
  },
  {
   "cell_type": "code",
   "execution_count": null,
   "id": "24fc15c6-9038-4a26-88ca-500338fb1320",
   "metadata": {},
   "outputs": [],
   "source": [
    "df3 = df3.groupby(['YEAR', 'TECHNOLOGY']).agg({'VALUE': 'mean'}).reset_index()"
   ]
  },
  {
   "cell_type": "code",
   "execution_count": null,
   "id": "e425b075-7c90-4a3c-b118-db44fe55f546",
   "metadata": {},
   "outputs": [],
   "source": [
    "co2_plot = df.hvplot.area(x='YEAR', y='VALUE', by='TECHNOLOGY', label=\"Emissions in Mtons\", ylim=(0, 20), width=1000, height=200).opts(bgcolor='white')\n"
   ]
  },
  {
   "cell_type": "code",
   "execution_count": null,
   "id": "fde4912e-225a-4473-acb9-1e71e32ea638",
   "metadata": {},
   "outputs": [],
   "source": [
    "co2_plot = df2.hvplot.area(x='YEAR', y='VALUE', by='PASSENGER', label=\"In billion p-km\", ylim=(0, 100), width=1000, height=400).opts(bgcolor='white')\n"
   ]
  },
  {
   "cell_type": "code",
   "execution_count": null,
   "id": "d89cb3ad-c208-4814-b741-03b62ea14a7b",
   "metadata": {},
   "outputs": [],
   "source": [
    "co2_plot = df3.hvplot.area(x='YEAR', y='VALUE', by='TECHNOLOGY', label=\"In billion t-km\", ylim=(0, 100), width=1000, height=400).opts(bgcolor='white')\n"
   ]
  },
  {
   "cell_type": "code",
   "execution_count": null,
   "id": "65603aa2-d07b-4ff8-b610-d571481d5d7e",
   "metadata": {},
   "outputs": [],
   "source": [
    "# Define the plot\n",
    "co2_plot = df.hvplot.area(x='YEAR', y='VALUE', by='TECHNOLOGY',label= \"Emissions in Mtons\",ylim=(0, 20), width=1000, height=200).opts(bgcolor='white')\n",
    "\n",
    "# Define a function that updates the plot, which is linked to some interactive controls like sliders\n",
    "def update_plot():\n",
    "    # Modify the plot or dataframe based on slider input and return updated plot\n",
    "    return df.hvplot.area(x='YEAR', by='TECHNOLOGY',y='VALUE',label= \"Emissions in Mtons\",ylim=(0, 100), width=1000, height=400).opts(bgcolor='white')#, ambition_level)\n",
    "\n",
    "# Register the callback function to update the plot\n",
    "interactive_plot = pn.interact(update_plot)#, ambition_level=ambition_slider)\n"
   ]
  },
  {
   "cell_type": "code",
   "execution_count": null,
   "id": "996ecf8d-7bf2-47ab-a572-3298e622d42a",
   "metadata": {},
   "outputs": [],
   "source": [
    "co2_plot = df2.hvplot.area(x='YEAR', y='VALUE', by='PASSENGER',label= \"In billion p-km\",ylim=(0, 100), width=1000, height=400).opts(bgcolor='white')\n",
    "\n",
    "# Define a function that updates the plot, which is linked to some interactive controls like sliders\n",
    "def update_plot2():\n",
    "    # Modify the plot or dataframe based on slider input and return updated plot\n",
    "    return df2.hvplot.area(x='YEAR', by='PASSENGER',y='VALUE',label= \"In billion p-km\",ylim=(0, 100), width=1000, height=400).opts(bgcolor='white')#, ambition_level)\n",
    "\n",
    "# Register the callback function to update the plot\n",
    "interactive_plot = pn.interact(update_plot2)#, ambition_level=ambition_slider)"
   ]
  },
  {
   "cell_type": "code",
   "execution_count": null,
   "id": "52caa261-01e6-47ab-89d0-ff37e695d327",
   "metadata": {},
   "outputs": [],
   "source": [
    "co2_plot = df3.hvplot.area(x='YEAR', y='VALUE', by='TECHNOLOGY',label= \"In billion t-km\",ylim=(0, 100), width=1000, height=400).opts(bgcolor='white')\n",
    "\n",
    "# Define a function that updates the plot, which is linked to some interactive controls like sliders\n",
    "def update_plot3():\n",
    "    # Modify the plot or dataframe based on slider input and return updated plot\n",
    "    return df3.hvplot.area(x='YEAR', by='TECHNOLOGY',y='VALUE',label= \"In billion t-km\",ylim=(0, 100), width=1000, height=400).opts(bgcolor='white')#, ambition_level)\n",
    "\n",
    "# Register the callback function to update the plot\n",
    "interactive_plot = pn.interact(update_plot2)#, ambition_level=ambition_slider)"
   ]
  },
  {
   "cell_type": "code",
   "execution_count": null,
   "id": "7e5f7e35-5d8d-41dc-907e-6d43a994fa1a",
   "metadata": {},
   "outputs": [],
   "source": [
    "# Create the FastListTemplate\n",
    "import holoviews as hv\n",
    "\n",
    "template = pn.template.FastListTemplate(\n",
    "    title='Path Calculator Dashboard',\n",
    "    sidebar=[\n",
    "        pn.pane.Markdown(\"# Sustainable Pathways Calculator\"),\n",
    "        ambition_Slider,\n",
    "        scenario_buttons\n",
    "    ],\n",
    "    main=[\n",
    "        pn.Row(\n",
    "            pn.Column(update_plot),\n",
    "            pn.Column(update_plot2)\n",
    "        ),\n",
    "        pn.Row(\n",
    "            pn.Column(update_plot3)\n",
    "            \n",
    "        )\n",
    "    ]\n",
    ")\n",
    "\n",
    "# Display the app\n",
    "template.servable()"
   ]
  },
  {
   "cell_type": "code",
   "execution_count": null,
   "id": "5ff9adcb-bcb8-4285-86eb-5234bb17ec3f",
   "metadata": {
    "editable": true,
    "slideshow": {
     "slide_type": ""
    },
    "tags": []
   },
   "outputs": [],
   "source": []
  }
 ],
 "metadata": {
  "kernelspec": {
   "display_name": "Python 3 (ipykernel)",
   "language": "python",
   "name": "python3"
  },
  "language_info": {
   "codemirror_mode": {
    "name": "ipython",
    "version": 3
   },
   "file_extension": ".py",
   "mimetype": "text/x-python",
   "name": "python",
   "nbconvert_exporter": "python",
   "pygments_lexer": "ipython3",
   "version": "3.12.1"
  }
 },
 "nbformat": 4,
 "nbformat_minor": 5
}
